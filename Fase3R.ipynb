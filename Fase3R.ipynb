{
  "nbformat": 4,
  "nbformat_minor": 0,
  "metadata": {
    "colab": {
      "name": "Fase3R.ipynb",
      "provenance": [],
      "include_colab_link": true
    },
    "kernelspec": {
      "name": "ir",
      "display_name": "R"
    }
  },
  "cells": [
    {
      "cell_type": "markdown",
      "metadata": {
        "id": "view-in-github",
        "colab_type": "text"
      },
      "source": [
        "<a href=\"https://colab.research.google.com/github/ferdevpy/Rlab/blob/main/Fase3R.ipynb\" target=\"_parent\"><img src=\"https://colab.research.google.com/assets/colab-badge.svg\" alt=\"Open In Colab\"/></a>"
      ]
    },
    {
      "cell_type": "markdown",
      "metadata": {
        "id": "Z2Kl9pfj0JKM"
      },
      "source": [
        "# Seja ensinável e execute as tarefas compartilhadas. Por fins didáticos e para melhor separação mental das sintaxes Python/R, realizaremos todos os exercícios de Python em R.\n",
        "![alt text](https://media0.giphy.com/media/pheOCmHVZehjy/source.gif)"
      ]
    },
    {
      "cell_type": "markdown",
      "metadata": {
        "id": "Y7enDOmAEdmo"
      },
      "source": [
        "## Utilize apenas funções e pacotes R para os desafios abaixo\n",
        "#### Skills principais trabalhadas: tolerância a frustração, pesquisa, auto-didatismo, compreensão de texto, lógica de programação e leitura de documentação(pacotes)."
      ]
    },
    {
      "cell_type": "markdown",
      "metadata": {
        "id": "j9ZuOU7Kyh9O"
      },
      "source": [
        "Faça a leitura de um dataset(conjunto de dados) do Rbase e mostre as primeiras linhas deste dataset"
      ]
    },
    {
      "cell_type": "code",
      "metadata": {
        "id": "tlFupLd-ydTB",
        "colab": {
          "base_uri": "https://localhost:8080/",
          "height": 283
        },
        "outputId": "1c3d9683-5282-49ba-f137-1e5e8d7c06c1"
      },
      "source": [
        "head(iris)"
      ],
      "execution_count": 1,
      "outputs": [
        {
          "output_type": "display_data",
          "data": {
            "text/plain": [
              "  Sepal.Length Sepal.Width Petal.Length Petal.Width Species\n",
              "1 5.1          3.5         1.4          0.2         setosa \n",
              "2 4.9          3.0         1.4          0.2         setosa \n",
              "3 4.7          3.2         1.3          0.2         setosa \n",
              "4 4.6          3.1         1.5          0.2         setosa \n",
              "5 5.0          3.6         1.4          0.2         setosa \n",
              "6 5.4          3.9         1.7          0.4         setosa "
            ],
            "text/latex": "A data.frame: 6 × 5\n\\begin{tabular}{r|lllll}\n  & Sepal.Length & Sepal.Width & Petal.Length & Petal.Width & Species\\\\\n  & <dbl> & <dbl> & <dbl> & <dbl> & <fct>\\\\\n\\hline\n\t1 & 5.1 & 3.5 & 1.4 & 0.2 & setosa\\\\\n\t2 & 4.9 & 3.0 & 1.4 & 0.2 & setosa\\\\\n\t3 & 4.7 & 3.2 & 1.3 & 0.2 & setosa\\\\\n\t4 & 4.6 & 3.1 & 1.5 & 0.2 & setosa\\\\\n\t5 & 5.0 & 3.6 & 1.4 & 0.2 & setosa\\\\\n\t6 & 5.4 & 3.9 & 1.7 & 0.4 & setosa\\\\\n\\end{tabular}\n",
            "text/markdown": "\nA data.frame: 6 × 5\n\n| <!--/--> | Sepal.Length &lt;dbl&gt; | Sepal.Width &lt;dbl&gt; | Petal.Length &lt;dbl&gt; | Petal.Width &lt;dbl&gt; | Species &lt;fct&gt; |\n|---|---|---|---|---|---|\n| 1 | 5.1 | 3.5 | 1.4 | 0.2 | setosa |\n| 2 | 4.9 | 3.0 | 1.4 | 0.2 | setosa |\n| 3 | 4.7 | 3.2 | 1.3 | 0.2 | setosa |\n| 4 | 4.6 | 3.1 | 1.5 | 0.2 | setosa |\n| 5 | 5.0 | 3.6 | 1.4 | 0.2 | setosa |\n| 6 | 5.4 | 3.9 | 1.7 | 0.4 | setosa |\n\n",
            "text/html": [
              "<table class=\"dataframe\">\n",
              "<caption>A data.frame: 6 × 5</caption>\n",
              "<thead>\n",
              "\t<tr><th></th><th scope=col>Sepal.Length</th><th scope=col>Sepal.Width</th><th scope=col>Petal.Length</th><th scope=col>Petal.Width</th><th scope=col>Species</th></tr>\n",
              "\t<tr><th></th><th scope=col>&lt;dbl&gt;</th><th scope=col>&lt;dbl&gt;</th><th scope=col>&lt;dbl&gt;</th><th scope=col>&lt;dbl&gt;</th><th scope=col>&lt;fct&gt;</th></tr>\n",
              "</thead>\n",
              "<tbody>\n",
              "\t<tr><th scope=row>1</th><td>5.1</td><td>3.5</td><td>1.4</td><td>0.2</td><td>setosa</td></tr>\n",
              "\t<tr><th scope=row>2</th><td>4.9</td><td>3.0</td><td>1.4</td><td>0.2</td><td>setosa</td></tr>\n",
              "\t<tr><th scope=row>3</th><td>4.7</td><td>3.2</td><td>1.3</td><td>0.2</td><td>setosa</td></tr>\n",
              "\t<tr><th scope=row>4</th><td>4.6</td><td>3.1</td><td>1.5</td><td>0.2</td><td>setosa</td></tr>\n",
              "\t<tr><th scope=row>5</th><td>5.0</td><td>3.6</td><td>1.4</td><td>0.2</td><td>setosa</td></tr>\n",
              "\t<tr><th scope=row>6</th><td>5.4</td><td>3.9</td><td>1.7</td><td>0.4</td><td>setosa</td></tr>\n",
              "</tbody>\n",
              "</table>\n"
            ]
          },
          "metadata": {
            "tags": []
          }
        }
      ]
    },
    {
      "cell_type": "markdown",
      "metadata": {
        "id": "3Yr1zAKdFRy-"
      },
      "source": [
        "Faça a leitura de um dataset(conjunto de dados) do Rbase e mostre as últimas linhas deste dataset"
      ]
    },
    {
      "cell_type": "code",
      "metadata": {
        "id": "hkJTCQmKFVfE",
        "colab": {
          "base_uri": "https://localhost:8080/",
          "height": 283
        },
        "outputId": "4edfc619-2510-4ee0-e54c-208a256964b7"
      },
      "source": [
        "tail(iris)"
      ],
      "execution_count": 2,
      "outputs": [
        {
          "output_type": "display_data",
          "data": {
            "text/plain": [
              "    Sepal.Length Sepal.Width Petal.Length Petal.Width Species  \n",
              "145 6.7          3.3         5.7          2.5         virginica\n",
              "146 6.7          3.0         5.2          2.3         virginica\n",
              "147 6.3          2.5         5.0          1.9         virginica\n",
              "148 6.5          3.0         5.2          2.0         virginica\n",
              "149 6.2          3.4         5.4          2.3         virginica\n",
              "150 5.9          3.0         5.1          1.8         virginica"
            ],
            "text/latex": "A data.frame: 6 × 5\n\\begin{tabular}{r|lllll}\n  & Sepal.Length & Sepal.Width & Petal.Length & Petal.Width & Species\\\\\n  & <dbl> & <dbl> & <dbl> & <dbl> & <fct>\\\\\n\\hline\n\t145 & 6.7 & 3.3 & 5.7 & 2.5 & virginica\\\\\n\t146 & 6.7 & 3.0 & 5.2 & 2.3 & virginica\\\\\n\t147 & 6.3 & 2.5 & 5.0 & 1.9 & virginica\\\\\n\t148 & 6.5 & 3.0 & 5.2 & 2.0 & virginica\\\\\n\t149 & 6.2 & 3.4 & 5.4 & 2.3 & virginica\\\\\n\t150 & 5.9 & 3.0 & 5.1 & 1.8 & virginica\\\\\n\\end{tabular}\n",
            "text/markdown": "\nA data.frame: 6 × 5\n\n| <!--/--> | Sepal.Length &lt;dbl&gt; | Sepal.Width &lt;dbl&gt; | Petal.Length &lt;dbl&gt; | Petal.Width &lt;dbl&gt; | Species &lt;fct&gt; |\n|---|---|---|---|---|---|\n| 145 | 6.7 | 3.3 | 5.7 | 2.5 | virginica |\n| 146 | 6.7 | 3.0 | 5.2 | 2.3 | virginica |\n| 147 | 6.3 | 2.5 | 5.0 | 1.9 | virginica |\n| 148 | 6.5 | 3.0 | 5.2 | 2.0 | virginica |\n| 149 | 6.2 | 3.4 | 5.4 | 2.3 | virginica |\n| 150 | 5.9 | 3.0 | 5.1 | 1.8 | virginica |\n\n",
            "text/html": [
              "<table class=\"dataframe\">\n",
              "<caption>A data.frame: 6 × 5</caption>\n",
              "<thead>\n",
              "\t<tr><th></th><th scope=col>Sepal.Length</th><th scope=col>Sepal.Width</th><th scope=col>Petal.Length</th><th scope=col>Petal.Width</th><th scope=col>Species</th></tr>\n",
              "\t<tr><th></th><th scope=col>&lt;dbl&gt;</th><th scope=col>&lt;dbl&gt;</th><th scope=col>&lt;dbl&gt;</th><th scope=col>&lt;dbl&gt;</th><th scope=col>&lt;fct&gt;</th></tr>\n",
              "</thead>\n",
              "<tbody>\n",
              "\t<tr><th scope=row>145</th><td>6.7</td><td>3.3</td><td>5.7</td><td>2.5</td><td>virginica</td></tr>\n",
              "\t<tr><th scope=row>146</th><td>6.7</td><td>3.0</td><td>5.2</td><td>2.3</td><td>virginica</td></tr>\n",
              "\t<tr><th scope=row>147</th><td>6.3</td><td>2.5</td><td>5.0</td><td>1.9</td><td>virginica</td></tr>\n",
              "\t<tr><th scope=row>148</th><td>6.5</td><td>3.0</td><td>5.2</td><td>2.0</td><td>virginica</td></tr>\n",
              "\t<tr><th scope=row>149</th><td>6.2</td><td>3.4</td><td>5.4</td><td>2.3</td><td>virginica</td></tr>\n",
              "\t<tr><th scope=row>150</th><td>5.9</td><td>3.0</td><td>5.1</td><td>1.8</td><td>virginica</td></tr>\n",
              "</tbody>\n",
              "</table>\n"
            ]
          },
          "metadata": {
            "tags": []
          }
        }
      ]
    },
    {
      "cell_type": "markdown",
      "metadata": {
        "id": "3MY8QLnuFVoX"
      },
      "source": [
        "Utilizando uma função Rbase, abra um dataset contido em sua própria máquina."
      ]
    },
    {
      "cell_type": "code",
      "metadata": {
        "id": "30lZbqcfFgiH",
        "colab": {
          "base_uri": "https://localhost:8080/",
          "height": 728
        },
        "outputId": "4ff7736a-3d93-480b-d06b-fabb9fca3503"
      },
      "source": [
        "data=read_csv2(file='MiningProcess_Flotation_Plant_Database_fixed.csv')\n",
        "head(data)"
      ],
      "execution_count": 97,
      "outputs": [
        {
          "output_type": "stream",
          "text": [
            "\u001b[36mℹ\u001b[39m Using \u001b[34m\u001b[34m','\u001b[34m\u001b[39m as decimal and \u001b[34m\u001b[34m'.'\u001b[34m\u001b[39m as grouping mark. Use \u001b[30m\u001b[47m\u001b[30m\u001b[47m`read_delim()`\u001b[47m\u001b[30m\u001b[49m\u001b[39m for more control.\n",
            "\n",
            "\n",
            "\u001b[36m──\u001b[39m \u001b[1m\u001b[1mColumn specification\u001b[1m\u001b[22m \u001b[36m────────────────────────────────────────────────────────\u001b[39m\n",
            "cols(\n",
            "  .default = col_double(),\n",
            "  date = \u001b[34mcol_datetime(format = \"\")\u001b[39m\n",
            ")\n",
            "\u001b[36mℹ\u001b[39m Use \u001b[30m\u001b[47m\u001b[30m\u001b[47m`spec()`\u001b[47m\u001b[30m\u001b[49m\u001b[39m for the full column specifications.\n",
            "\n",
            "\n"
          ],
          "name": "stderr"
        },
        {
          "output_type": "display_data",
          "data": {
            "text/plain": [
              "  date                % Iron Feed % Silica Feed Starch Flow Amina Flow\n",
              "1 2017-03-10 01:00:00 55.2        16.98         3019.53     557.434   \n",
              "2 2017-03-10 01:00:00 55.2        16.98         3024.41     563.965   \n",
              "3 2017-03-10 01:00:00 55.2        16.98         3043.46     568.054   \n",
              "4 2017-03-10 01:00:00 55.2        16.98         3047.36     568.665   \n",
              "5 2017-03-10 01:00:00 55.2        16.98         3033.69     558.167   \n",
              "6 2017-03-10 01:00:00 55.2        16.98         3079.10     564.697   \n",
              "  Ore Pulp Flow Ore Pulp pH Ore Pulp Density Flotation Column 01 Air Flow\n",
              "1 395.713       10.0664     1.74             249.214                     \n",
              "2 397.383       10.0672     1.74             249.719                     \n",
              "3 399.668       10.0680     1.74             249.741                     \n",
              "4 397.939       10.0689     1.74             249.917                     \n",
              "5 400.254       10.0697     1.74             250.203                     \n",
              "6 396.533       10.0705     1.74             250.730                     \n",
              "  Flotation Column 02 Air Flow ⋯ Flotation Column 07 Air Flow\n",
              "1 253.235                      ⋯ 250.884                     \n",
              "2 250.532                      ⋯ 248.994                     \n",
              "3 247.874                      ⋯ 248.071                     \n",
              "4 254.487                      ⋯ 251.147                     \n",
              "5 252.136                      ⋯ 248.928                     \n",
              "6 248.906                      ⋯ 251.873                     \n",
              "  Flotation Column 01 Level Flotation Column 02 Level Flotation Column 03 Level\n",
              "1 457.396                   432.962                   424.954                  \n",
              "2 451.891                   429.560                   432.939                  \n",
              "3 451.240                   468.927                   434.610                  \n",
              "4 452.441                   458.165                   442.865                  \n",
              "5 452.441                   452.900                   450.523                  \n",
              "6 444.384                   443.269                   460.449                  \n",
              "  Flotation Column 04 Level Flotation Column 05 Level Flotation Column 06 Level\n",
              "1 443.558                   502.255                   446.370                  \n",
              "2 448.086                   496.363                   445.922                  \n",
              "3 449.688                   484.411                   447.826                  \n",
              "4 446.210                   471.411                   437.690                  \n",
              "5 453.670                   462.598                   443.682                  \n",
              "6 439.920                   451.588                   433.539                  \n",
              "  Flotation Column 07 Level % Iron Concentrate % Silica Concentrate\n",
              "1 523.344                   66.91              1.31                \n",
              "2 498.075                   66.91              1.31                \n",
              "3 458.567                   66.91              1.31                \n",
              "4 427.669                   66.91              1.31                \n",
              "5 425.679                   66.91              1.31                \n",
              "6 425.458                   66.91              1.31                "
            ],
            "text/latex": "A tibble: 6 × 24\n\\begin{tabular}{lllllllllllllllllllll}\n date & \\% Iron Feed & \\% Silica Feed & Starch Flow & Amina Flow & Ore Pulp Flow & Ore Pulp pH & Ore Pulp Density & Flotation Column 01 Air Flow & Flotation Column 02 Air Flow & ⋯ & Flotation Column 07 Air Flow & Flotation Column 01 Level & Flotation Column 02 Level & Flotation Column 03 Level & Flotation Column 04 Level & Flotation Column 05 Level & Flotation Column 06 Level & Flotation Column 07 Level & \\% Iron Concentrate & \\% Silica Concentrate\\\\\n <dttm> & <dbl> & <dbl> & <dbl> & <dbl> & <dbl> & <dbl> & <dbl> & <dbl> & <dbl> & ⋯ & <dbl> & <dbl> & <dbl> & <dbl> & <dbl> & <dbl> & <dbl> & <dbl> & <dbl> & <dbl>\\\\\n\\hline\n\t 2017-03-10 01:00:00 & 55.2 & 16.98 & 3019.53 & 557.434 & 395.713 & 10.0664 & 1.74 & 249.214 & 253.235 & ⋯ & 250.884 & 457.396 & 432.962 & 424.954 & 443.558 & 502.255 & 446.370 & 523.344 & 66.91 & 1.31\\\\\n\t 2017-03-10 01:00:00 & 55.2 & 16.98 & 3024.41 & 563.965 & 397.383 & 10.0672 & 1.74 & 249.719 & 250.532 & ⋯ & 248.994 & 451.891 & 429.560 & 432.939 & 448.086 & 496.363 & 445.922 & 498.075 & 66.91 & 1.31\\\\\n\t 2017-03-10 01:00:00 & 55.2 & 16.98 & 3043.46 & 568.054 & 399.668 & 10.0680 & 1.74 & 249.741 & 247.874 & ⋯ & 248.071 & 451.240 & 468.927 & 434.610 & 449.688 & 484.411 & 447.826 & 458.567 & 66.91 & 1.31\\\\\n\t 2017-03-10 01:00:00 & 55.2 & 16.98 & 3047.36 & 568.665 & 397.939 & 10.0689 & 1.74 & 249.917 & 254.487 & ⋯ & 251.147 & 452.441 & 458.165 & 442.865 & 446.210 & 471.411 & 437.690 & 427.669 & 66.91 & 1.31\\\\\n\t 2017-03-10 01:00:00 & 55.2 & 16.98 & 3033.69 & 558.167 & 400.254 & 10.0697 & 1.74 & 250.203 & 252.136 & ⋯ & 248.928 & 452.441 & 452.900 & 450.523 & 453.670 & 462.598 & 443.682 & 425.679 & 66.91 & 1.31\\\\\n\t 2017-03-10 01:00:00 & 55.2 & 16.98 & 3079.10 & 564.697 & 396.533 & 10.0705 & 1.74 & 250.730 & 248.906 & ⋯ & 251.873 & 444.384 & 443.269 & 460.449 & 439.920 & 451.588 & 433.539 & 425.458 & 66.91 & 1.31\\\\\n\\end{tabular}\n",
            "text/markdown": "\nA tibble: 6 × 24\n\n| date &lt;dttm&gt; | % Iron Feed &lt;dbl&gt; | % Silica Feed &lt;dbl&gt; | Starch Flow &lt;dbl&gt; | Amina Flow &lt;dbl&gt; | Ore Pulp Flow &lt;dbl&gt; | Ore Pulp pH &lt;dbl&gt; | Ore Pulp Density &lt;dbl&gt; | Flotation Column 01 Air Flow &lt;dbl&gt; | Flotation Column 02 Air Flow &lt;dbl&gt; | ⋯ ⋯ | Flotation Column 07 Air Flow &lt;dbl&gt; | Flotation Column 01 Level &lt;dbl&gt; | Flotation Column 02 Level &lt;dbl&gt; | Flotation Column 03 Level &lt;dbl&gt; | Flotation Column 04 Level &lt;dbl&gt; | Flotation Column 05 Level &lt;dbl&gt; | Flotation Column 06 Level &lt;dbl&gt; | Flotation Column 07 Level &lt;dbl&gt; | % Iron Concentrate &lt;dbl&gt; | % Silica Concentrate &lt;dbl&gt; |\n|---|---|---|---|---|---|---|---|---|---|---|---|---|---|---|---|---|---|---|---|---|\n| 2017-03-10 01:00:00 | 55.2 | 16.98 | 3019.53 | 557.434 | 395.713 | 10.0664 | 1.74 | 249.214 | 253.235 | ⋯ | 250.884 | 457.396 | 432.962 | 424.954 | 443.558 | 502.255 | 446.370 | 523.344 | 66.91 | 1.31 |\n| 2017-03-10 01:00:00 | 55.2 | 16.98 | 3024.41 | 563.965 | 397.383 | 10.0672 | 1.74 | 249.719 | 250.532 | ⋯ | 248.994 | 451.891 | 429.560 | 432.939 | 448.086 | 496.363 | 445.922 | 498.075 | 66.91 | 1.31 |\n| 2017-03-10 01:00:00 | 55.2 | 16.98 | 3043.46 | 568.054 | 399.668 | 10.0680 | 1.74 | 249.741 | 247.874 | ⋯ | 248.071 | 451.240 | 468.927 | 434.610 | 449.688 | 484.411 | 447.826 | 458.567 | 66.91 | 1.31 |\n| 2017-03-10 01:00:00 | 55.2 | 16.98 | 3047.36 | 568.665 | 397.939 | 10.0689 | 1.74 | 249.917 | 254.487 | ⋯ | 251.147 | 452.441 | 458.165 | 442.865 | 446.210 | 471.411 | 437.690 | 427.669 | 66.91 | 1.31 |\n| 2017-03-10 01:00:00 | 55.2 | 16.98 | 3033.69 | 558.167 | 400.254 | 10.0697 | 1.74 | 250.203 | 252.136 | ⋯ | 248.928 | 452.441 | 452.900 | 450.523 | 453.670 | 462.598 | 443.682 | 425.679 | 66.91 | 1.31 |\n| 2017-03-10 01:00:00 | 55.2 | 16.98 | 3079.10 | 564.697 | 396.533 | 10.0705 | 1.74 | 250.730 | 248.906 | ⋯ | 251.873 | 444.384 | 443.269 | 460.449 | 439.920 | 451.588 | 433.539 | 425.458 | 66.91 | 1.31 |\n\n",
            "text/html": [
              "<table class=\"dataframe\">\n",
              "<caption>A tibble: 6 × 24</caption>\n",
              "<thead>\n",
              "\t<tr><th scope=col>date</th><th scope=col>% Iron Feed</th><th scope=col>% Silica Feed</th><th scope=col>Starch Flow</th><th scope=col>Amina Flow</th><th scope=col>Ore Pulp Flow</th><th scope=col>Ore Pulp pH</th><th scope=col>Ore Pulp Density</th><th scope=col>Flotation Column 01 Air Flow</th><th scope=col>Flotation Column 02 Air Flow</th><th scope=col>⋯</th><th scope=col>Flotation Column 07 Air Flow</th><th scope=col>Flotation Column 01 Level</th><th scope=col>Flotation Column 02 Level</th><th scope=col>Flotation Column 03 Level</th><th scope=col>Flotation Column 04 Level</th><th scope=col>Flotation Column 05 Level</th><th scope=col>Flotation Column 06 Level</th><th scope=col>Flotation Column 07 Level</th><th scope=col>% Iron Concentrate</th><th scope=col>% Silica Concentrate</th></tr>\n",
              "\t<tr><th scope=col>&lt;dttm&gt;</th><th scope=col>&lt;dbl&gt;</th><th scope=col>&lt;dbl&gt;</th><th scope=col>&lt;dbl&gt;</th><th scope=col>&lt;dbl&gt;</th><th scope=col>&lt;dbl&gt;</th><th scope=col>&lt;dbl&gt;</th><th scope=col>&lt;dbl&gt;</th><th scope=col>&lt;dbl&gt;</th><th scope=col>&lt;dbl&gt;</th><th scope=col>⋯</th><th scope=col>&lt;dbl&gt;</th><th scope=col>&lt;dbl&gt;</th><th scope=col>&lt;dbl&gt;</th><th scope=col>&lt;dbl&gt;</th><th scope=col>&lt;dbl&gt;</th><th scope=col>&lt;dbl&gt;</th><th scope=col>&lt;dbl&gt;</th><th scope=col>&lt;dbl&gt;</th><th scope=col>&lt;dbl&gt;</th><th scope=col>&lt;dbl&gt;</th></tr>\n",
              "</thead>\n",
              "<tbody>\n",
              "\t<tr><td>2017-03-10 01:00:00</td><td>55.2</td><td>16.98</td><td>3019.53</td><td>557.434</td><td>395.713</td><td>10.0664</td><td>1.74</td><td>249.214</td><td>253.235</td><td>⋯</td><td>250.884</td><td>457.396</td><td>432.962</td><td>424.954</td><td>443.558</td><td>502.255</td><td>446.370</td><td>523.344</td><td>66.91</td><td>1.31</td></tr>\n",
              "\t<tr><td>2017-03-10 01:00:00</td><td>55.2</td><td>16.98</td><td>3024.41</td><td>563.965</td><td>397.383</td><td>10.0672</td><td>1.74</td><td>249.719</td><td>250.532</td><td>⋯</td><td>248.994</td><td>451.891</td><td>429.560</td><td>432.939</td><td>448.086</td><td>496.363</td><td>445.922</td><td>498.075</td><td>66.91</td><td>1.31</td></tr>\n",
              "\t<tr><td>2017-03-10 01:00:00</td><td>55.2</td><td>16.98</td><td>3043.46</td><td>568.054</td><td>399.668</td><td>10.0680</td><td>1.74</td><td>249.741</td><td>247.874</td><td>⋯</td><td>248.071</td><td>451.240</td><td>468.927</td><td>434.610</td><td>449.688</td><td>484.411</td><td>447.826</td><td>458.567</td><td>66.91</td><td>1.31</td></tr>\n",
              "\t<tr><td>2017-03-10 01:00:00</td><td>55.2</td><td>16.98</td><td>3047.36</td><td>568.665</td><td>397.939</td><td>10.0689</td><td>1.74</td><td>249.917</td><td>254.487</td><td>⋯</td><td>251.147</td><td>452.441</td><td>458.165</td><td>442.865</td><td>446.210</td><td>471.411</td><td>437.690</td><td>427.669</td><td>66.91</td><td>1.31</td></tr>\n",
              "\t<tr><td>2017-03-10 01:00:00</td><td>55.2</td><td>16.98</td><td>3033.69</td><td>558.167</td><td>400.254</td><td>10.0697</td><td>1.74</td><td>250.203</td><td>252.136</td><td>⋯</td><td>248.928</td><td>452.441</td><td>452.900</td><td>450.523</td><td>453.670</td><td>462.598</td><td>443.682</td><td>425.679</td><td>66.91</td><td>1.31</td></tr>\n",
              "\t<tr><td>2017-03-10 01:00:00</td><td>55.2</td><td>16.98</td><td>3079.10</td><td>564.697</td><td>396.533</td><td>10.0705</td><td>1.74</td><td>250.730</td><td>248.906</td><td>⋯</td><td>251.873</td><td>444.384</td><td>443.269</td><td>460.449</td><td>439.920</td><td>451.588</td><td>433.539</td><td>425.458</td><td>66.91</td><td>1.31</td></tr>\n",
              "</tbody>\n",
              "</table>\n"
            ]
          },
          "metadata": {
            "tags": []
          }
        }
      ]
    },
    {
      "cell_type": "markdown",
      "metadata": {
        "id": "6xyDmufwFgtS"
      },
      "source": [
        "Crie uma função que recebe 2 parâmetros e retorna o maior valor destes."
      ]
    },
    {
      "cell_type": "code",
      "metadata": {
        "id": "X6k1tzNWFxMM",
        "colab": {
          "base_uri": "https://localhost:8080/",
          "height": 34
        },
        "outputId": "eb75398e-ea38-412a-dee2-53fd34cc353e"
      },
      "source": [
        "teste=function(num1,num2){\n",
        "  if (num1>=num2){\n",
        "    return (num1)\n",
        "  }\n",
        "  else{\n",
        "    return (num2)\n",
        "  }\n",
        "}\n",
        "teste(2,3)\n"
      ],
      "execution_count": 3,
      "outputs": [
        {
          "output_type": "display_data",
          "data": {
            "text/plain": [
              "[1] 3"
            ],
            "text/latex": "3",
            "text/markdown": "3",
            "text/html": [
              "3"
            ]
          },
          "metadata": {
            "tags": []
          }
        }
      ]
    },
    {
      "cell_type": "markdown",
      "metadata": {
        "id": "NWlYA5_sFx5w"
      },
      "source": [
        "Crie ou abra um dataset e na sequência, faça plotagem das features em um gráfico de barras."
      ]
    },
    {
      "cell_type": "code",
      "metadata": {
        "id": "HMr2U0I8F-zM",
        "colab": {
          "base_uri": "https://localhost:8080/",
          "height": 437
        },
        "outputId": "31ebcdb4-54c5-409b-fcce-bdf93c5e7f9a"
      },
      "source": [
        "\n",
        "library(ggplot2)\n",
        "data()\n",
        "ggplot(diamonds, aes(x = cut)) +\n",
        "  geom_bar()"
      ],
      "execution_count": 10,
      "outputs": [
        {
          "output_type": "display_data",
          "data": {
            "image/png": "[encoded data removed]",
            "text/plain": [
              "plot without title"
            ]
          },
          "metadata": {
            "tags": [],
            "image/png": {
              "width": 420,
              "height": 420
            }
          }
        }
      ]
    },
    {
      "cell_type": "markdown",
      "metadata": {
        "id": "3ua79PyZGTOB"
      },
      "source": [
        "Com o dataset abaixo carregado, realize os exercícios seguintes:"
      ]
    },
    {
      "cell_type": "code",
      "metadata": {
        "id": "s3xbysLTGS7S"
      },
      "source": [
        "enderecos <- c(\"Rua Marcelino 851, São Paulo\", \"Avenida Voluntários da Pátria 367, Curitiba\", \"Rua do corcovado 198, Rio de janeiro\")\n",
        "produtos <- c(\"TV\", \"notebooks\", \"GPU\", \"mouses\", \"Teclado\")\n",
        "sentencas <- stringr::sentences[1:10]\n",
        "campos <- c(\"order_number\", \"order_date\", \"customer_email\", \"product_title\", \"amount\")\n",
        "skills <- c(\"João Silva (jr)\", \"Rita Cadillac (senior)\", \"Chris Brown (senior)\", \"Sara Sarali (pleno)\")"
      ],
      "execution_count": 44,
      "outputs": []
    },
    {
      "cell_type": "markdown",
      "metadata": {
        "id": "oIARcRAyHn2N"
      },
      "source": [
        "Normalize o vetor de endereços substituindo letras maiúsculas por minúsculas."
      ]
    },
    {
      "cell_type": "code",
      "metadata": {
        "id": "TS6qkcK-HqRx",
        "colab": {
          "base_uri": "https://localhost:8080/",
          "height": 34
        },
        "outputId": "ef40674e-7496-4e40-d8f4-547469698a1e"
      },
      "source": [
        "library(stringr)\n",
        "tolower(enderecos)"
      ],
      "execution_count": 45,
      "outputs": [
        {
          "output_type": "display_data",
          "data": {
            "text/plain": [
              "[1] \"rua marcelino 851, são paulo\"               \n",
              "[2] \"avenida voluntários da pátria 367, curitiba\"\n",
              "[3] \"rua do corcovado 198, rio de janeiro\"       "
            ],
            "text/latex": "\\begin{enumerate*}\n\\item 'rua marcelino 851, são paulo'\n\\item 'avenida voluntários da pátria 367, curitiba'\n\\item 'rua do corcovado 198, rio de janeiro'\n\\end{enumerate*}\n",
            "text/markdown": "1. 'rua marcelino 851, são paulo'\n2. 'avenida voluntários da pátria 367, curitiba'\n3. 'rua do corcovado 198, rio de janeiro'\n\n\n",
            "text/html": [
              "<style>\n",
              ".list-inline {list-style: none; margin:0; padding: 0}\n",
              ".list-inline>li {display: inline-block}\n",
              ".list-inline>li:not(:last-child)::after {content: \"\\00b7\"; padding: 0 .5ex}\n",
              "</style>\n",
              "<ol class=list-inline><li>'rua marcelino 851, são paulo'</li><li>'avenida voluntários da pátria 367, curitiba'</li><li>'rua do corcovado 198, rio de janeiro'</li></ol>\n"
            ]
          },
          "metadata": {
            "tags": []
          }
        }
      ]
    },
    {
      "cell_type": "markdown",
      "metadata": {
        "id": "EHmTOtNaHqfc"
      },
      "source": [
        "Puxe apenas a parte numérica do vetor de endereços."
      ]
    },
    {
      "cell_type": "code",
      "metadata": {
        "id": "1qQJ4NmMHtgM",
        "colab": {
          "base_uri": "https://localhost:8080/",
          "height": 34
        },
        "outputId": "a9fb0643-db7b-498e-d4c8-67463b10db45"
      },
      "source": [
        "nums=c(0,0,0)\n",
        "i=1\n",
        "for (ende in enderecos){\n",
        "  a=unlist(strsplit(x = ende, split = \" \"))\n",
        "  b=str_subset(a,\"[0-9]\")\n",
        "  nums[i]=(b)\n",
        "  i=i+1\n",
        "}\n",
        "nums"
      ],
      "execution_count": 65,
      "outputs": [
        {
          "output_type": "display_data",
          "data": {
            "text/plain": [
              "[1] \"851,\" \"367,\" \"198,\""
            ],
            "text/latex": "\\begin{enumerate*}\n\\item '851,'\n\\item '367,'\n\\item '198,'\n\\end{enumerate*}\n",
            "text/markdown": "1. '851,'\n2. '367,'\n3. '198,'\n\n\n",
            "text/html": [
              "<style>\n",
              ".list-inline {list-style: none; margin:0; padding: 0}\n",
              ".list-inline>li {display: inline-block}\n",
              ".list-inline>li:not(:last-child)::after {content: \"\\00b7\"; padding: 0 .5ex}\n",
              "</style>\n",
              "<ol class=list-inline><li>'851,'</li><li>'367,'</li><li>'198,'</li></ol>\n"
            ]
          },
          "metadata": {
            "tags": []
          }
        }
      ]
    },
    {
      "cell_type": "markdown",
      "metadata": {
        "id": "pRY89c-dHyPC"
      },
      "source": [
        "Divida o vetor de endereços em duas partes: endereço e cidade. O resultado deve ser uma matriz."
      ]
    },
    {
      "cell_type": "code",
      "metadata": {
        "id": "e8MPIMUUHyXq",
        "colab": {
          "base_uri": "https://localhost:8080/",
          "height": 127
        },
        "outputId": "ebc02114-d377-46f6-b24e-3e908a21a2d5"
      },
      "source": [
        "str_split(enderecos, \",\", simplify = TRUE)\n"
      ],
      "execution_count": 88,
      "outputs": [
        {
          "output_type": "display_data",
          "data": {
            "text/plain": [
              "     [,1]                              [,2]           \n",
              "[1,] Rua Marcelino 851                  São Paulo     \n",
              "[2,] Avenida Voluntários da Pátria 367  Curitiba      \n",
              "[3,] Rua do corcovado 198               Rio de janeiro"
            ],
            "text/latex": "A matrix: 3 × 2 of type chr\n\\begin{tabular}{ll}\n\t Rua Marcelino 851                 &  São Paulo     \\\\\n\t Avenida Voluntários da Pátria 367 &  Curitiba      \\\\\n\t Rua do corcovado 198              &  Rio de janeiro\\\\\n\\end{tabular}\n",
            "text/markdown": "\nA matrix: 3 × 2 of type chr\n\n| Rua Marcelino 851                 |  São Paulo      |\n| Avenida Voluntários da Pátria 367 |  Curitiba       |\n| Rua do corcovado 198              |  Rio de janeiro |\n\n",
            "text/html": [
              "<table class=\"dataframe\">\n",
              "<caption>A matrix: 3 × 2 of type chr</caption>\n",
              "<tbody>\n",
              "\t<tr><td>Rua Marcelino 851                </td><td> São Paulo     </td></tr>\n",
              "\t<tr><td>Avenida Voluntários da Pátria 367</td><td> Curitiba      </td></tr>\n",
              "\t<tr><td>Rua do corcovado 198             </td><td> Rio de janeiro</td></tr>\n",
              "</tbody>\n",
              "</table>\n"
            ]
          },
          "metadata": {
            "tags": []
          }
        }
      ]
    },
    {
      "cell_type": "markdown",
      "metadata": {
        "id": "1nNzBOBhIAo4"
      },
      "source": [
        "Normalize o vetor \"produtos\" removendo todos os espaços em branco desnecessários (início, meio e fim), capitalizando todas as letras."
      ]
    },
    {
      "cell_type": "code",
      "metadata": {
        "id": "jCLZSbriIXKh",
        "colab": {
          "base_uri": "https://localhost:8080/",
          "height": 34
        },
        "outputId": "c3f6fbed-59f7-4f52-8637-b7a9db742ec7"
      },
      "source": [
        "pp=(str_squish(produtos))\n",
        "str_to_title(pp)"
      ],
      "execution_count": 96,
      "outputs": [
        {
          "output_type": "display_data",
          "data": {
            "text/plain": [
              "[1] \"Tv\"        \"Notebooks\" \"Gpu\"       \"Mouses\"    \"Teclado\"  "
            ],
            "text/latex": "\\begin{enumerate*}\n\\item 'Tv'\n\\item 'Notebooks'\n\\item 'Gpu'\n\\item 'Mouses'\n\\item 'Teclado'\n\\end{enumerate*}\n",
            "text/markdown": "1. 'Tv'\n2. 'Notebooks'\n3. 'Gpu'\n4. 'Mouses'\n5. 'Teclado'\n\n\n",
            "text/html": [
              "<style>\n",
              ".list-inline {list-style: none; margin:0; padding: 0}\n",
              ".list-inline>li {display: inline-block}\n",
              ".list-inline>li:not(:last-child)::after {content: \"\\00b7\"; padding: 0 .5ex}\n",
              "</style>\n",
              "<ol class=list-inline><li>'Tv'</li><li>'Notebooks'</li><li>'Gpu'</li><li>'Mouses'</li><li>'Teclado'</li></ol>\n"
            ]
          },
          "metadata": {
            "tags": []
          }
        }
      ]
    }
  ]
}