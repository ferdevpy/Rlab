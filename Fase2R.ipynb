{
  "nbformat": 4,
  "nbformat_minor": 0,
  "metadata": {
    "colab": {
      "name": "Fase2R.ipynb",
      "provenance": [],
      "include_colab_link": true
    },
    "kernelspec": {
      "name": "ir",
      "display_name": "R"
    }
  },
  "cells": [
    {
      "cell_type": "markdown",
      "metadata": {
        "id": "view-in-github",
        "colab_type": "text"
      },
      "source": [
        "<a href=\"https://colab.research.google.com/github/ferdevpy/Rlab/blob/main/Fase2R.ipynb\" target=\"_parent\"><img src=\"https://colab.research.google.com/assets/colab-badge.svg\" alt=\"Open In Colab\"/></a>"
      ]
    },
    {
      "cell_type": "markdown",
      "metadata": {
        "id": "Z2Kl9pfj0JKM"
      },
      "source": [
        "# Seja ensinável e execute as tarefas compartilhadas. Por fins didáticos e para melhor separação mental das sintaxes Python/R, realizaremos todos os exercícios de Python em R.\n",
        "![alt text](https://media.tenor.com/images/51e469036910eb2ece677863200af5a8/tenor.gif)"
      ]
    },
    {
      "cell_type": "markdown",
      "metadata": {
        "id": "j9ZuOU7Kyh9O"
      },
      "source": [
        "Crie um algoritmo em R que peça uma nota, entre 0 e 100. Mostre uma mensagem caso o valor seja inválido e continue pedindo até que o usuário informe um valor válido."
      ]
    },
    {
      "cell_type": "code",
      "metadata": {
        "id": "tlFupLd-ydTB",
        "colab": {
          "base_uri": "https://localhost:8080/"
        },
        "outputId": "220f4ddf-2299-4010-def8-11e0c1327274"
      },
      "source": [
        "while (TRUE){\n",
        "  nota=as.numeric(readline('Insira uma nota entre 0 e 100. '))\n",
        "  if(nota>=0 && nota<=100){\n",
        "    message('A nota ',nota,' é válida') \n",
        "    break\n",
        "    }\n",
        "  else{\n",
        "    message('Nota inválida!!')\n",
        "  }\n",
        "}\n",
        "\n"
      ],
      "execution_count": null,
      "outputs": [
        {
          "output_type": "stream",
          "text": [
            "Insira uma nota entre 0 e 100. 210\n"
          ],
          "name": "stdout"
        },
        {
          "output_type": "stream",
          "text": [
            "Nota inválida!!\n",
            "\n"
          ],
          "name": "stderr"
        },
        {
          "output_type": "stream",
          "text": [
            "Insira uma nota entre 0 e 100. 222\n"
          ],
          "name": "stdout"
        },
        {
          "output_type": "stream",
          "text": [
            "Nota inválida!!\n",
            "\n"
          ],
          "name": "stderr"
        },
        {
          "output_type": "stream",
          "text": [
            "Insira uma nota entre 0 e 100. 36\n"
          ],
          "name": "stdout"
        },
        {
          "output_type": "stream",
          "text": [
            "A nota 36 é válida\n",
            "\n"
          ],
          "name": "stderr"
        }
      ]
    },
    {
      "cell_type": "markdown",
      "metadata": {
        "id": "yhw2owA-zbrn"
      },
      "source": [
        "Crie um algoritmo em R que leia um nome de usuário e a sua senha e não aceite a senha igual ao nome do usuário, mostrando uma mensagem de erro e voltando a pedir as informações.<br>"
      ]
    },
    {
      "cell_type": "code",
      "metadata": {
        "id": "RJJtXkvV0qzj",
        "colab": {
          "base_uri": "https://localhost:8080/"
        },
        "outputId": "76313e01-8db4-4d39-91cc-c705ee7a646a"
      },
      "source": [
        "usuario=readline('Usuário: ')\n",
        "while (TRUE){\n",
        "  senha=readline('senha: ')\n",
        "  if (senha == usuario){\n",
        "    message('Por favor insira uma senha diferente do nome de usuário. ')\n",
        "  }\n",
        "  else{break}\n",
        "}"
      ],
      "execution_count": null,
      "outputs": [
        {
          "output_type": "stream",
          "text": [
            "Usuário: ferdevpy21\n",
            "senha: ferdevpy21\n"
          ],
          "name": "stdout"
        },
        {
          "output_type": "stream",
          "text": [
            "Por favor insira uma senha diferente do nome de usuário. \n",
            "\n"
          ],
          "name": "stderr"
        },
        {
          "output_type": "stream",
          "text": [
            "senha: fer5566\n"
          ],
          "name": "stdout"
        }
      ]
    },
    {
      "cell_type": "markdown",
      "metadata": {
        "id": "35RwPIIF0w3i"
      },
      "source": [
        "Crie um algoritmo em R que leia e valide as seguintes informações:\n",
        "* Nome: maior que 3 caracteres;\n",
        "* Idade: entre 0 e 150;\n",
        "* Salário: maior que zero;\n",
        "* Sexo: 'f' ou 'm';\n",
        "* Estado Civil: 's', 'c', 'v', 'd';"
      ]
    },
    {
      "cell_type": "code",
      "metadata": {
        "id": "NEFu-8L808HB",
        "colab": {
          "base_uri": "https://localhost:8080/"
        },
        "outputId": "07661c4e-51d2-42d4-a5db-f57c82602165"
      },
      "source": [
        "\n",
        "estcop=c('s','S','c','C','v','V','d','D')\n",
        "sexoop=c('f','F','m','M')\n",
        "i=0\n",
        "while (i==0){\n",
        "  nome=readline('Nome: ')\n",
        "  idade=as.integer(readline('idade: '))\n",
        "  salario=as.numeric(readline('salário: '))\n",
        "  sexo=readline('sexo: ')\n",
        "  estadoc=readline('estado civil:')\n",
        "  while (nchar(nome)<=3){\n",
        "      message('Por favor, insira um nome com mais de 3 caracteres.')\n",
        "      nome=readline('Nome:')\n",
        "  }\n",
        "  while (idade<0 || idade>150){\n",
        "      message('Por favor, insira uma idade válida.')\n",
        "      idade=as.integer(readline('idade: '))\n",
        "  }\n",
        "  while (salario<0) {\n",
        "      message('Por favor, insira um salário maior que 0.')\n",
        "      salario=as.numeric(readline('salário: '))\n",
        "  }\n",
        "  while (!(sexo %in% sexoop)){    \n",
        "      message('Por favor, insira um sexo válido!')\n",
        "      sexo=readline('sexo: ')\n",
        "  }\n",
        "  while (!(estadoc %in% estcop)){\n",
        "      message('Por favor, insira um estado civil válido!')\n",
        "      estadoc=readline('estado civil:')\n",
        "  }\n",
        "  i=i+1\n",
        "} \n",
        "message('')\n",
        "message('nome: ',nome)\n",
        "message('idade: ',idade)\n",
        "message('salário: ',salario)\n",
        "message('sexo: ',sexo)\n",
        "message('estado civil: ',estadoc)\n"
      ],
      "execution_count": 30,
      "outputs": [
        {
          "output_type": "stream",
          "text": [
            "Nome: fer\n",
            "idade: 22\n",
            "salário: 1000\n",
            "sexo: g\n",
            "estado civil:h\n"
          ],
          "name": "stdout"
        },
        {
          "output_type": "stream",
          "text": [
            "Por favor, insira um nome com mais de 3 caracteres.\n",
            "\n"
          ],
          "name": "stderr"
        },
        {
          "output_type": "stream",
          "text": [
            "Nome:Fernanda\n"
          ],
          "name": "stdout"
        },
        {
          "output_type": "stream",
          "text": [
            "Por favor, insira um sexo válido!\n",
            "\n"
          ],
          "name": "stderr"
        },
        {
          "output_type": "stream",
          "text": [
            "sexo: f\n"
          ],
          "name": "stdout"
        },
        {
          "output_type": "stream",
          "text": [
            "Por favor, insira um estado civil válido!\n",
            "\n"
          ],
          "name": "stderr"
        },
        {
          "output_type": "stream",
          "text": [
            "estado civil:s\n"
          ],
          "name": "stdout"
        },
        {
          "output_type": "stream",
          "text": [
            "\n",
            "\n",
            "nome: Fernanda\n",
            "\n",
            "idade: 22\n",
            "\n",
            "salário: 1000\n",
            "\n",
            "sexo: f\n",
            "\n",
            "estado civil: s\n",
            "\n"
          ],
          "name": "stderr"
        }
      ]
    },
    {
      "cell_type": "markdown",
      "metadata": {
        "id": "_OGQmoYA08bI"
      },
      "source": [
        "Supondo que a população de um país A seja da ordem de 80000 habitantes com uma taxa anual de crescimento de 3% e que a população de B seja 200000 habitantes com uma taxa de crescimento de 1.5%.<br><br> Crie um algoritmo em R que calcule e escreva o número de anos necessários para que a população do país A ultrapasse ou iguale a população do país B, mantidas as taxas de crescimento."
      ]
    },
    {
      "cell_type": "code",
      "metadata": {
        "id": "xxgmQ5j21Abx",
        "colab": {
          "base_uri": "https://localhost:8080/"
        },
        "outputId": "a76ce979-77bb-4fd7-e844-57668c0433f1"
      },
      "source": [
        "popa=as.numeric(readline('população país A:'))\n",
        "popb=as.numeric(readline('população país B:'))\n",
        "a=1\n",
        "while (TRUE){\n",
        "  popa=popa+0.03*popa\n",
        "  popb=popb+popb*0.015\n",
        "  if (popa>=popb){\n",
        "    break\n",
        "  }\n",
        "  a=a+1\n",
        "}\n",
        "message('Foram necessários ',a,' anos para a população do país A ultrapassar ou se igualar à do país B.')"
      ],
      "execution_count": 32,
      "outputs": [
        {
          "output_type": "stream",
          "text": [
            "população país A:80000\n",
            "população país B:200000\n"
          ],
          "name": "stdout"
        },
        {
          "output_type": "stream",
          "text": [
            "Foram necessários 63 anos para a população do país A ultrapassar ou se igualar à do país B.\n",
            "\n"
          ],
          "name": "stderr"
        }
      ]
    },
    {
      "cell_type": "markdown",
      "metadata": {
        "id": "kP9TOwKo1AnS"
      },
      "source": [
        "Desenvolva um gerador de tabuada, capaz de gerar a tabuada de qualquer número inteiro entre 1 a 10. O usuário deve informar de qual numero ele deseja ver a tabuada. A saída deve ser conforme o exemplo abaixo:\n",
        "Tabuada de 5:<br>\n",
        "5 X 1 = 5<br>\n",
        "5 X 2 = 10<br>\n",
        "...<br>\n",
        "5 X 10 = 50<br>"
      ]
    },
    {
      "cell_type": "code",
      "metadata": {
        "id": "Tj5xsjC-1D5I",
        "colab": {
          "base_uri": "https://localhost:8080/"
        },
        "outputId": "013da20d-a292-4289-a6f6-9ed5bdb5698d"
      },
      "source": [
        "while (TRUE){\n",
        "  num=as.integer(readline('Insira o número sobre o qual deseja ver a tabuada.'))\n",
        "  if (num<10 && num>1){\n",
        "    break\n",
        "  }\n",
        "  else{\n",
        "    message('Insira um número entre 1 e 10')\n",
        "  }\n",
        "}\n",
        "\n",
        "for (i in 1:10){\n",
        "  message(num,' x ', i,' = ', i*num)\n",
        "\n",
        "}"
      ],
      "execution_count": 35,
      "outputs": [
        {
          "output_type": "stream",
          "text": [
            "Insira o número sobre o qual deseja ver a tabuada.0\n"
          ],
          "name": "stdout"
        },
        {
          "output_type": "stream",
          "text": [
            "Insira um número entre 1 e 10\n",
            "\n"
          ],
          "name": "stderr"
        },
        {
          "output_type": "stream",
          "text": [
            "Insira o número sobre o qual deseja ver a tabuada.5\n"
          ],
          "name": "stdout"
        },
        {
          "output_type": "stream",
          "text": [
            "5 x 1 = 5\n",
            "\n",
            "5 x 2 = 10\n",
            "\n",
            "5 x 3 = 15\n",
            "\n",
            "5 x 4 = 20\n",
            "\n",
            "5 x 5 = 25\n",
            "\n",
            "5 x 6 = 30\n",
            "\n",
            "5 x 7 = 35\n",
            "\n",
            "5 x 8 = 40\n",
            "\n",
            "5 x 9 = 45\n",
            "\n",
            "5 x 10 = 50\n",
            "\n"
          ],
          "name": "stderr"
        }
      ]
    },
    {
      "cell_type": "markdown",
      "metadata": {
        "id": "6vgD9pl81EGd"
      },
      "source": [
        "Crie um algoritmo em R que leia três números e mostre o maior e o menor deles."
      ]
    },
    {
      "cell_type": "code",
      "metadata": {
        "id": "3h1VOEuR1KGz",
        "colab": {
          "base_uri": "https://localhost:8080/"
        },
        "outputId": "a63aaaf1-0d33-44ba-b83d-59f185c87709"
      },
      "source": [
        "nums=c(0,0,0)\n",
        "for (i in 1:3){\n",
        "  message('insira o ',i,'º número')\n",
        "  nums[i]=as.numeric(readline(''))\n",
        "}\n",
        "message('Maior número: ',max(nums))\n",
        "message('Menor número: ',min(nums))\n"
      ],
      "execution_count": 52,
      "outputs": [
        {
          "output_type": "stream",
          "text": [
            "insira o 1º número\n",
            "\n"
          ],
          "name": "stderr"
        },
        {
          "output_type": "stream",
          "text": [
            "10\n"
          ],
          "name": "stdout"
        },
        {
          "output_type": "stream",
          "text": [
            "insira o 2º número\n",
            "\n"
          ],
          "name": "stderr"
        },
        {
          "output_type": "stream",
          "text": [
            "20\n"
          ],
          "name": "stdout"
        },
        {
          "output_type": "stream",
          "text": [
            "insira o 3º número\n",
            "\n"
          ],
          "name": "stderr"
        },
        {
          "output_type": "stream",
          "text": [
            "30\n"
          ],
          "name": "stdout"
        },
        {
          "output_type": "stream",
          "text": [
            "Maior número: 30\n",
            "\n",
            "Menor número: 10\n",
            "\n"
          ],
          "name": "stderr"
        }
      ]
    },
    {
      "cell_type": "markdown",
      "metadata": {
        "id": "QXhvPnMQ1Kd6"
      },
      "source": [
        "Crie um algoritmo em R que peça 2 números, base e expoente, calcule e mostre o primeiro número elevado ao segundo número. Não utilize a função de potência da linguagem."
      ]
    },
    {
      "cell_type": "code",
      "metadata": {
        "id": "ywZkuhmt1N7l",
        "colab": {
          "base_uri": "https://localhost:8080/"
        },
        "outputId": "6ba79dec-18af-4436-d54a-2dd6aac3bde8"
      },
      "source": [
        "\n",
        "base=as.integer(readline('base:'))\n",
        "expoente=as.integer(readline('expoente:'))\n",
        "resultado=1\n",
        "for (i in 1:expoente){\n",
        "  resultado=resultado*base\n",
        "}\n",
        "message('Resultado: ',resultado)"
      ],
      "execution_count": 53,
      "outputs": [
        {
          "output_type": "stream",
          "text": [
            "base:2\n",
            "expoente:3\n"
          ],
          "name": "stdout"
        },
        {
          "output_type": "stream",
          "text": [
            "Resultado: 8\n",
            "\n"
          ],
          "name": "stderr"
        }
      ]
    },
    {
      "cell_type": "markdown",
      "metadata": {
        "id": "F-rpjggB1T5G"
      },
      "source": [
        "Crie um algoritmo em R que peça 10 números inteiros, calcule e mostre a quantidade de números pares e a quantidade de números impares."
      ]
    },
    {
      "cell_type": "code",
      "metadata": {
        "id": "nvMchfOZ2_vC",
        "colab": {
          "base_uri": "https://localhost:8080/"
        },
        "outputId": "f55d0b4f-f0f4-4b75-d06a-196d94248195"
      },
      "source": [
        "nums=c(0,0,0,0,0,0,0,0,0,0)\n",
        "\n",
        "par=0\n",
        "for (i in 1:10){\n",
        "  message('Insira o ',i,'º número:')\n",
        "  nums[i]=as.integer(readline(''))\n",
        "  if (nums[i]%%2==0){\n",
        "    par=par+1\n",
        "  }\n",
        "}\n",
        "message('Números inseridos: ')\n",
        "print(nums)\n",
        "message('Quantidade de pares: ',par)\n",
        "message('Quantidade de ímpares: ',10-par)"
      ],
      "execution_count": 63,
      "outputs": [
        {
          "output_type": "stream",
          "text": [
            "Insira o 1º número:\n",
            "\n"
          ],
          "name": "stderr"
        },
        {
          "output_type": "stream",
          "text": [
            "2\n"
          ],
          "name": "stdout"
        },
        {
          "output_type": "stream",
          "text": [
            "Insira o 2º número:\n",
            "\n"
          ],
          "name": "stderr"
        },
        {
          "output_type": "stream",
          "text": [
            "3\n"
          ],
          "name": "stdout"
        },
        {
          "output_type": "stream",
          "text": [
            "Insira o 3º número:\n",
            "\n"
          ],
          "name": "stderr"
        },
        {
          "output_type": "stream",
          "text": [
            "43\n"
          ],
          "name": "stdout"
        },
        {
          "output_type": "stream",
          "text": [
            "Insira o 4º número:\n",
            "\n"
          ],
          "name": "stderr"
        },
        {
          "output_type": "stream",
          "text": [
            "5\n"
          ],
          "name": "stdout"
        },
        {
          "output_type": "stream",
          "text": [
            "Insira o 5º número:\n",
            "\n"
          ],
          "name": "stderr"
        },
        {
          "output_type": "stream",
          "text": [
            "6\n"
          ],
          "name": "stdout"
        },
        {
          "output_type": "stream",
          "text": [
            "Insira o 6º número:\n",
            "\n"
          ],
          "name": "stderr"
        },
        {
          "output_type": "stream",
          "text": [
            "8\n"
          ],
          "name": "stdout"
        },
        {
          "output_type": "stream",
          "text": [
            "Insira o 7º número:\n",
            "\n"
          ],
          "name": "stderr"
        },
        {
          "output_type": "stream",
          "text": [
            "9\n"
          ],
          "name": "stdout"
        },
        {
          "output_type": "stream",
          "text": [
            "Insira o 8º número:\n",
            "\n"
          ],
          "name": "stderr"
        },
        {
          "output_type": "stream",
          "text": [
            "10\n"
          ],
          "name": "stdout"
        },
        {
          "output_type": "stream",
          "text": [
            "Insira o 9º número:\n",
            "\n"
          ],
          "name": "stderr"
        },
        {
          "output_type": "stream",
          "text": [
            "11\n"
          ],
          "name": "stdout"
        },
        {
          "output_type": "stream",
          "text": [
            "Insira o 10º número:\n",
            "\n"
          ],
          "name": "stderr"
        },
        {
          "output_type": "stream",
          "text": [
            "2\n"
          ],
          "name": "stdout"
        },
        {
          "output_type": "stream",
          "text": [
            "Números inseridos: \n",
            "\n"
          ],
          "name": "stderr"
        },
        {
          "output_type": "stream",
          "text": [
            " [1]  2  3 43  5  6  8  9 10 11  2\n"
          ],
          "name": "stdout"
        },
        {
          "output_type": "stream",
          "text": [
            "Quantidade de pares: 5\n",
            "\n",
            "Quantidade de ímpares: 5\n",
            "\n"
          ],
          "name": "stderr"
        }
      ]
    },
    {
      "cell_type": "markdown",
      "metadata": {
        "id": "C-H4OWh03DFn"
      },
      "source": [
        "Um funcionário de uma empresa recebe aumento salarial anualmente: Sabe-se que: Esse funcionário foi contratado em 1995, com salário inicial de R$ 1.000,00; Em 1996 recebeu aumento de 1,5% sobre seu salário inicial; A partir de 1997 (inclusive), os aumentos salariais sempre correspondem ao dobro do percentual do ano anterior. Crie um algoritmo em R que determine o salário atual desse funcionário. Após concluir isto, altere o programa permitindo que o usuário digite o salário inicial do funcionário"
      ]
    },
    {
      "cell_type": "code",
      "metadata": {
        "id": "vs5qFAKx3Eyi",
        "colab": {
          "base_uri": "https://localhost:8080/"
        },
        "outputId": "b47f3178-9bfd-4bc8-a6eb-da80011340e9"
      },
      "source": [
        "salario=as.numeric(readline('sálario inicial:'))\n",
        "ano=as.integer(readline('ano de ingresso:'))\n",
        "anoat=as.integer(readline('ano atual:'))\n",
        "aumento=1.5/100\n",
        "while (ano<anoat){\n",
        "  ano=ano+1\n",
        "  if (ano<1997){\n",
        "    salario=salario+ aumento*salario\n",
        "  }\n",
        "  else{\n",
        "    aumento=aumento*2\n",
        "    salario=salario+aumento*salario\n",
        "  }\n",
        "  }\n",
        "message('salário atual: ',salario)"
      ],
      "execution_count": 65,
      "outputs": [
        {
          "output_type": "stream",
          "text": [
            "sálario inicial:1000\n",
            "ano de ingresso:1995\n",
            "ano atual:1998\n"
          ],
          "name": "stdout"
        },
        {
          "output_type": "stream",
          "text": [
            "salário atual: 1108.177\n",
            "\n"
          ],
          "name": "stderr"
        }
      ]
    },
    {
      "cell_type": "markdown",
      "metadata": {
        "id": "PGccudSo3E54"
      },
      "source": [
        "Crie um algoritmo em R com uma função que necessite de um argumento. A função retorna o valor de caractere ‘P’, se seu argumento for positivo, e ‘N’, se seu argumento for zero ou negativo."
      ]
    },
    {
      "cell_type": "code",
      "metadata": {
        "id": "_zfLyopV3IqV",
        "colab": {
          "base_uri": "https://localhost:8080/"
        },
        "outputId": "14201865-04f9-4c3f-c4da-d153c75ee324"
      },
      "source": [
        "test=function(num){\n",
        "  if (num>=0){\n",
        "    return ('P')\n",
        "}\n",
        "  else{\n",
        "    return ('N')\n",
        "  }\n",
        "}\n",
        "num=as.integer(readline('insira um numero:'))\n",
        "message(test(num))"
      ],
      "execution_count": 69,
      "outputs": [
        {
          "output_type": "stream",
          "text": [
            "insira um numero:-3\n"
          ],
          "name": "stdout"
        },
        {
          "output_type": "stream",
          "text": [
            "N\n",
            "\n"
          ],
          "name": "stderr"
        }
      ]
    },
    {
      "cell_type": "markdown",
      "metadata": {
        "id": "bu3Zyati3Iwc"
      },
      "source": [
        "Construa uma função que receba uma data no formato DD/MM/AAAA e devolva uma string no formato D de mesPorExtenso de AAAA. Opcionalmente, valide a data e retorne NULL caso a data seja inválida."
      ]
    },
    {
      "cell_type": "code",
      "metadata": {
        "id": "Peo4D5Sz3PDC",
        "colab": {
          "base_uri": "https://localhost:8080/"
        },
        "outputId": "80b8a035-e565-4a8f-8fb8-30e0e47f2694"
      },
      "source": [
        "\n",
        "while (TRUE){\n",
        "  data=readline('Insira a data no formato DD/MM/AAAA:')\n",
        "  data=unlist(strsplit(data,'/'))\n",
        "\n",
        "  if (as.integer(data[2])==4 || as.integer(data[2])==6 || as.integer(data[2])==9 || as.integer(data[2])==11){\n",
        "    if (as.integer(data[1])>30){\n",
        "      message('Data inválida!')\n",
        "}\n",
        "    else{\n",
        "      break}\n",
        "  }\n",
        "  else{\n",
        "    if (as.integer(data[2])==2){\n",
        "      if (as.integer(data[1])>29){\n",
        "        message('Data inválida!')\n",
        "      }\n",
        "      else{\n",
        "        break}\n",
        "    }\n",
        "    else{\n",
        "      if (as.integer(data[1])>31){\n",
        "       message('Data inválida!')}\n",
        "      else{\n",
        "        break\n",
        "      }\n",
        "    }\n",
        "}\n",
        "}\n",
        "meses=c('janeiro','fevereiro','março', 'abril', 'maio', 'junho','julho', 'agosto', 'setembro', 'outubro', 'novembro', 'dezembro')\n",
        "message(data[1], ' de ', meses[as.integer(data[2])],' de ', data[3])"
      ],
      "execution_count": 82,
      "outputs": [
        {
          "output_type": "stream",
          "text": [
            "Insira a data no formato DD/MM/AAAA:30/02/2020\n"
          ],
          "name": "stdout"
        },
        {
          "output_type": "stream",
          "text": [
            "Data inválida!\n",
            "\n"
          ],
          "name": "stderr"
        },
        {
          "output_type": "stream",
          "text": [
            "Insira a data no formato DD/MM/AAAA:28/02/2020\n"
          ],
          "name": "stdout"
        },
        {
          "output_type": "stream",
          "text": [
            "28 de fevereiro de 2020\n",
            "\n"
          ],
          "name": "stderr"
        }
      ]
    }
  ]
}