{
  "nbformat": 4,
  "nbformat_minor": 0,
  "metadata": {
    "colab": {
      "name": "Fase1R.ipynb",
      "provenance": [],
      "include_colab_link": true
    },
    "kernelspec": {
      "name": "ir",
      "display_name": "R"
    }
  },
  "cells": [
    {
      "cell_type": "markdown",
      "metadata": {
        "id": "view-in-github",
        "colab_type": "text"
      },
      "source": [
        "<a href=\"https://colab.research.google.com/github/ferdevpy/Rlab/blob/main/Fase1R.ipynb\" target=\"_parent\"><img src=\"https://colab.research.google.com/assets/colab-badge.svg\" alt=\"Open In Colab\"/></a>"
      ]
    },
    {
      "cell_type": "markdown",
      "metadata": {
        "id": "Z2Kl9pfj0JKM"
      },
      "source": [
        "# Seja ensinável e execute as tarefas compartilhadas. Por fins didáticos e para melhor separação mental das sintaxes Python/R, realizaremos todos os exercícios de Python em R.\n",
        "![alt text](https://media.giphy.com/media/d3mlE7uhX8KFgEmY/200.gif)"
      ]
    },
    {
      "cell_type": "markdown",
      "metadata": {
        "id": "j9ZuOU7Kyh9O"
      },
      "source": [
        "Crie um algoritmo em R que mostre a mensagem \"Alo mundo\" na tela."
      ]
    },
    {
      "cell_type": "code",
      "metadata": {
        "id": "tlFupLd-ydTB",
        "colab": {
          "base_uri": "https://localhost:8080/"
        },
        "outputId": "ae9e1de0-7edf-4544-a5fd-6bec735a2d4e"
      },
      "source": [
        "print('Alo mundo')"
      ],
      "execution_count": 2,
      "outputs": [
        {
          "output_type": "stream",
          "text": [
            "[1] \"Alo mundo\"\n"
          ],
          "name": "stdout"
        }
      ]
    },
    {
      "cell_type": "markdown",
      "metadata": {
        "id": "yhw2owA-zbrn"
      },
      "source": [
        "Crie um algoritmo em R que peça dois números e imprima a soma."
      ]
    },
    {
      "cell_type": "code",
      "metadata": {
        "id": "RJJtXkvV0qzj",
        "colab": {
          "base_uri": "https://localhost:8080/",
          "height": 68
        },
        "outputId": "bfdab83b-9d2e-416d-edc7-5f6fbbb3bfff"
      },
      "source": [
        "a=as.numeric(readline(prompt='Insira aqui o primeiro numero:'))\n",
        "b=as.numeric(readline(prompt='Insira aqui o segundo numero:'))\n",
        "(a+b)"
      ],
      "execution_count": 6,
      "outputs": [
        {
          "output_type": "stream",
          "text": [
            "Insira aqui o primeiro numero:1\n",
            "Insira aqui o segundo numero:2\n"
          ],
          "name": "stdout"
        },
        {
          "output_type": "display_data",
          "data": {
            "text/plain": [
              "[1] 3"
            ],
            "text/latex": "3",
            "text/markdown": "3",
            "text/html": [
              "3"
            ]
          },
          "metadata": {
            "tags": []
          }
        }
      ]
    },
    {
      "cell_type": "markdown",
      "metadata": {
        "id": "35RwPIIF0w3i"
      },
      "source": [
        "Crie um algoritmo em R que peça um número e então mostre a mensagem O número informado foi [número]."
      ]
    },
    {
      "cell_type": "code",
      "metadata": {
        "id": "NEFu-8L808HB",
        "colab": {
          "base_uri": "https://localhost:8080/"
        },
        "outputId": "4a41c3f8-0b11-4401-af05-162a00ce0f07"
      },
      "source": [
        "num=readline(prompt='Insira aqui o primeiro numero:')\n",
        "message('O número inserido foi ',num,'.')"
      ],
      "execution_count": 16,
      "outputs": [
        {
          "output_type": "stream",
          "text": [
            "Insira aqui o primeiro numero:2\n"
          ],
          "name": "stdout"
        },
        {
          "output_type": "stream",
          "text": [
            "O número inserido foi 2.\n",
            "\n"
          ],
          "name": "stderr"
        }
      ]
    },
    {
      "cell_type": "markdown",
      "metadata": {
        "id": "_OGQmoYA08bI"
      },
      "source": [
        "Crie um algoritmo em R que converta metros para centímetros."
      ]
    },
    {
      "cell_type": "code",
      "metadata": {
        "id": "xxgmQ5j21Abx",
        "colab": {
          "base_uri": "https://localhost:8080/"
        },
        "outputId": "adddfa4e-e849-4021-ac80-250e43ccb267"
      },
      "source": [
        "m=as.numeric(readline(prompt='Insira aqui o valor em metros:'))\n",
        "cm=m*100\n",
        "message(m,' metros equivale a ',cm,' centímetros.')"
      ],
      "execution_count": 19,
      "outputs": [
        {
          "output_type": "stream",
          "text": [
            "Insira aqui o valor em metros:2\n"
          ],
          "name": "stdout"
        },
        {
          "output_type": "stream",
          "text": [
            "2 metros equivale a 200 centímetros.\n",
            "\n"
          ],
          "name": "stderr"
        }
      ]
    },
    {
      "cell_type": "markdown",
      "metadata": {
        "id": "kP9TOwKo1AnS"
      },
      "source": [
        "Crie um algoritmo em Python que peça as 4 notas bimestrais e mostre a média."
      ]
    },
    {
      "cell_type": "code",
      "metadata": {
        "id": "Tj5xsjC-1D5I",
        "colab": {
          "base_uri": "https://localhost:8080/"
        },
        "outputId": "c185b2ca-f20a-4638-d425-95f229de31b3"
      },
      "source": [
        "total=0\n",
        "for (i in 1:4){\n",
        "  nota=as.numeric(readline('Insira aqui um numero: '))\n",
        "  total=total+nota\n",
        "}\n",
        "media=total/i\n",
        "message('Média= ',media)\n"
      ],
      "execution_count": 28,
      "outputs": [
        {
          "output_type": "stream",
          "text": [
            "Insira aqui um numero: 2\n",
            "Insira aqui um numero: 4\n",
            "Insira aqui um numero: 5\n",
            "Insira aqui um numero: 3\n"
          ],
          "name": "stdout"
        },
        {
          "output_type": "stream",
          "text": [
            "Média= 3.5\n",
            "\n"
          ],
          "name": "stderr"
        }
      ]
    },
    {
      "cell_type": "markdown",
      "metadata": {
        "id": "6vgD9pl81EGd"
      },
      "source": [
        "Crie um algoritmo em R que peça o raio de um círculo, calcule e mostre sua área."
      ]
    },
    {
      "cell_type": "code",
      "metadata": {
        "id": "3h1VOEuR1KGz",
        "colab": {
          "base_uri": "https://localhost:8080/"
        },
        "outputId": "f0b1b24b-c04f-48df-f642-01b5ee4636ef"
      },
      "source": [
        "raio=as.numeric(readline('Insira aqui o raio de seu circulo:'))\n",
        "message('A área do circulo é: ',pi*(raio^2))"
      ],
      "execution_count": 33,
      "outputs": [
        {
          "output_type": "stream",
          "text": [
            "Insira aqui o raio de seu circulo:2\n"
          ],
          "name": "stdout"
        },
        {
          "output_type": "stream",
          "text": [
            "A área do circulo é: 12.5663706143592\n",
            "\n"
          ],
          "name": "stderr"
        }
      ]
    },
    {
      "cell_type": "markdown",
      "metadata": {
        "id": "QXhvPnMQ1Kd6"
      },
      "source": [
        "Crie um algoritmo em R que calcule a área de um quadrado, em seguida mostre o dobro desta área para o usuário."
      ]
    },
    {
      "cell_type": "code",
      "metadata": {
        "id": "ywZkuhmt1N7l",
        "colab": {
          "base_uri": "https://localhost:8080/"
        },
        "outputId": "67530e24-5af8-4c94-b77f-8323a3db76a7"
      },
      "source": [
        "lado=as.numeric(readline('Insira aqui o valor do lado do quadrado:'))\n",
        "message('O dobro da área do quadrado é: ',2*lado*lado)"
      ],
      "execution_count": 34,
      "outputs": [
        {
          "output_type": "stream",
          "text": [
            "Insira aqui o valor do lado do quadrado:2\n"
          ],
          "name": "stdout"
        },
        {
          "output_type": "stream",
          "text": [
            "O dobro da área do quadrado é: 8\n",
            "\n"
          ],
          "name": "stderr"
        }
      ]
    },
    {
      "cell_type": "markdown",
      "metadata": {
        "id": "F-rpjggB1T5G"
      },
      "source": [
        "Crie um algoritmo em R que pergunte quanto você ganha por hora e o número de horas trabalhadas no mês. Calcule e mostre o total do seu salário no referido mês.\n"
      ]
    },
    {
      "cell_type": "code",
      "metadata": {
        "id": "nvMchfOZ2_vC",
        "colab": {
          "base_uri": "https://localhost:8080/"
        },
        "outputId": "4bf13c5b-a7c1-4593-a1b6-1c398ada1024"
      },
      "source": [
        "vh=as.numeric(readline('Quanto ganha por hora? '))\n",
        "nh=as.numeric(readline('Quantas horas trabalhou este mês? '))\n",
        "message('Seu salário este mês será de ',nh*vh,' reais')"
      ],
      "execution_count": 36,
      "outputs": [
        {
          "output_type": "stream",
          "text": [
            "Quanto ganha por hora? 10\n",
            "Quantas horas trabalhou este mês? 120\n"
          ],
          "name": "stdout"
        },
        {
          "output_type": "stream",
          "text": [
            "Seu salário este mês será de 1200 reais\n",
            "\n"
          ],
          "name": "stderr"
        }
      ]
    },
    {
      "cell_type": "markdown",
      "metadata": {
        "id": "C-H4OWh03DFn"
      },
      "source": [
        "Crie um algoritmo em R que peça a temperatura em graus Farenheit, transforme e mostre a temperatura em graus Celsius.\n",
        "C = (5 * (F-32) / 9)."
      ]
    },
    {
      "cell_type": "code",
      "metadata": {
        "id": "vs5qFAKx3Eyi",
        "colab": {
          "base_uri": "https://localhost:8080/"
        },
        "outputId": "ca74f891-7075-44db-f923-c790ba152df3"
      },
      "source": [
        "f=as.numeric(readline('Insira aqui a temperatura em Farenheit:'))\n",
        "c=(5*(f-32)/9)\n",
        "message('A temperatura em Celsius é: ',c)"
      ],
      "execution_count": 1,
      "outputs": [
        {
          "output_type": "stream",
          "text": [
            "Insira aqui a temperatura em Farenheit:220\n"
          ],
          "name": "stdout"
        },
        {
          "output_type": "stream",
          "text": [
            "A temperatura em Celsius é: 104.444444444444\n",
            "\n"
          ],
          "name": "stderr"
        }
      ]
    },
    {
      "cell_type": "markdown",
      "metadata": {
        "id": "PGccudSo3E54"
      },
      "source": [
        "Crie um algoritmo em R que peça a temperatura em graus Celsius, transforme e mostre em graus Farenheit."
      ]
    },
    {
      "cell_type": "code",
      "metadata": {
        "id": "_zfLyopV3IqV",
        "colab": {
          "base_uri": "https://localhost:8080/"
        },
        "outputId": "4d61cacc-6600-4fa3-e2d2-aec3fa3cb9f6"
      },
      "source": [
        "c=as.numeric(readline('Insira aqui a temperatura em Celsius:'))\n",
        "f=((9/5)*c)+32\n",
        "message('A temperatura em Farenheit é: ',f)"
      ],
      "execution_count": 2,
      "outputs": [
        {
          "output_type": "stream",
          "text": [
            "Insira aqui a temperatura em Celsius:104.44444\n"
          ],
          "name": "stdout"
        },
        {
          "output_type": "stream",
          "text": [
            "A temperatura em Farenheit é: 219.999992\n",
            "\n"
          ],
          "name": "stderr"
        }
      ]
    },
    {
      "cell_type": "markdown",
      "metadata": {
        "id": "bu3Zyati3Iwc"
      },
      "source": [
        "Crie um algoritmo em R que peça 2 números inteiros e um número real. Calcule e mostre:\n",
        "* a soma do dobro do primeiro com metade do segundo .\n",
        "* a soma do triplo do primeiro com o terceiro.\n",
        "* o terceiro elevado ao cubo."
      ]
    },
    {
      "cell_type": "code",
      "metadata": {
        "id": "Peo4D5Sz3PDC",
        "colab": {
          "base_uri": "https://localhost:8080/"
        },
        "outputId": "affd72c7-2d69-48d4-9c3d-7c5c113b6c33"
      },
      "source": [
        "num1=as.integer(readline('Insira um número inteiro:'))\n",
        "num2=as.integer(readline('Insira um outro número inteiro:'))\n",
        "num=as.numeric(readline('Insira um número real:'))\n",
        "\n",
        "message('A soma do dobro do primeiro com metade do segundo= ',((2*num1)+(num2/2)))\n",
        "message('a soma do triplo do primeiro com o terceiro= ', 3*num1+num)\n",
        "message('O terceiro elevado ao cubo= ',num^3)\n"
      ],
      "execution_count": 4,
      "outputs": [
        {
          "output_type": "stream",
          "text": [
            "Insira um número inteiro:1\n",
            "Insira um outro número inteiro:2\n",
            "Insira um número real:3\n"
          ],
          "name": "stdout"
        },
        {
          "output_type": "stream",
          "text": [
            "A soma do dobro do primeiro com metade do segundo= 3\n",
            "\n",
            "a soma do triplo do primeiro com o terceiro= 6\n",
            "\n",
            "O terceiro elevado ao cubo= 27\n",
            "\n"
          ],
          "name": "stderr"
        }
      ]
    }
  ]
}